{
 "cells": [
  {
   "cell_type": "code",
   "execution_count": 35,
   "id": "31759459",
   "metadata": {},
   "outputs": [
    {
     "name": "stdout",
     "output_type": "stream",
     "text": [
      "1994\n"
     ]
    }
   ],
   "source": [
    "class Solution:\n",
    "    def romanToInt(self, s: str) -> int:\n",
    "        self.map = {\n",
    "            \"I\": 1,\n",
    "            \"V\": 5,\n",
    "            \"X\": 10,\n",
    "            \"L\": 50,\n",
    "            \"C\": 100,\n",
    "            \"D\": 500,\n",
    "            \"M\": 1000,\n",
    "            \"IV\": 4,\n",
    "            \"IX\": 9,\n",
    "            \"XL\": 40,\n",
    "            \"XC\": 90,\n",
    "            \"CD\": 400,\n",
    "            \"CM\": 900\n",
    "        }\n",
    "        num = 0\n",
    "        i = 0\n",
    "        if s in self.map:\n",
    "            num = self.map[s]\n",
    "        else:\n",
    "            while i < len(s):\n",
    "                if i+1<len(s) and s[i:i+2] in self.map:\n",
    "                    num+=self.map[s[i:i+2]]\n",
    "                    i+=2\n",
    "                else:\n",
    "                    num+=self.map[s[i]]\n",
    "                    i+=1\n",
    "        return num\n",
    "sol = Solution()\n",
    "print(sol.romanToInt(\"MCMXCIV\"))"
   ]
  },
  {
   "cell_type": "code",
   "execution_count": 36,
   "id": "9a516ec3",
   "metadata": {},
   "outputs": [
    {
     "name": "stdout",
     "output_type": "stream",
     "text": [
      "3\n",
      "1994\n"
     ]
    }
   ],
   "source": [
    "class Solution(object):\n",
    "   def romanToInt(self, s):\n",
    "      \"\"\"\n",
    "      :type s: str\n",
    "      :rtype: int\n",
    "      \"\"\"\n",
    "      roman = {'I':1,'V':5,'X':10,'L':50,'C':100,'D':500,'M':1000,'IV':4,'IX':9,'XL':40,'XC':90,'CD':400,'CM':900}\n",
    "      i = 0\n",
    "      num = 0\n",
    "      while i < len(s):\n",
    "         if i+1<len(s) and s[i:i+2] in roman:\n",
    "            num+=roman[s[i:i+2]]\n",
    "            i+=2\n",
    "         else:\n",
    "            #print(i)\n",
    "            num+=roman[s[i]]\n",
    "            i+=1\n",
    "      return num\n",
    "ob1 = Solution()\n",
    "print(ob1.romanToInt(\"III\"))\n",
    "print(ob1.romanToInt(\"MCMXCIV\"))"
   ]
  },
  {
   "cell_type": "code",
   "execution_count": 63,
   "id": "26eaf72c",
   "metadata": {},
   "outputs": [
    {
     "name": "stdout",
     "output_type": "stream",
     "text": [
      "[0, 2]\n"
     ]
    },
    {
     "data": {
      "text/plain": [
       "'\\n    Two Sum\\n'"
      ]
     },
     "execution_count": 63,
     "metadata": {},
     "output_type": "execute_result"
    }
   ],
   "source": [
    "class Solution:\n",
    "    def twoSum(self, nums: [int], target: int) -> [int]:\n",
    "        finalList = []\n",
    "        n = 0 #the changing number, e.g n[0] + n[1], n[0] + n[2]\n",
    "        while len(finalList) < 2:\n",
    "            for i in range(1, len(nums)):\n",
    "                if nums[n] + nums[i] == target:\n",
    "                    finalList.append(n)\n",
    "                    finalList.append(i)\n",
    "                    finalList.sort()\n",
    "                    return finalList\n",
    "                    break\n",
    "                else:\n",
    "                    if n == len(nums) - 1:\n",
    "                        #reset n\n",
    "                        n = 0\n",
    "                    else:\n",
    "                        n+=1\n",
    "sol = Solution()\n",
    "print(sol.twoSum([2, 3, 4, 10], 6))\n",
    "\n",
    "'''\n",
    "    Two Sum\n",
    "'''"
   ]
  },
  {
   "cell_type": "code",
   "execution_count": 25,
   "id": "548b7921",
   "metadata": {},
   "outputs": [
    {
     "name": "stdout",
     "output_type": "stream",
     "text": [
      "True\n"
     ]
    }
   ],
   "source": [
    "class Solution:\n",
    "    def isPalindrome(self, x: int) -> bool:\n",
    "        originalNumber = str(x)\n",
    "        finalNumber = \"\"\n",
    "        for i in reversed(range(len(originalNumber))):\n",
    "            finalNumber+=originalNumber[i]\n",
    "        return originalNumber == finalNumber\n",
    "sol = Solution()\n",
    "print(sol.isPalindrome(1234321))"
   ]
  },
  {
   "cell_type": "code",
   "execution_count": 151,
   "id": "f75917ce",
   "metadata": {},
   "outputs": [
    {
     "name": "stdout",
     "output_type": "stream",
     "text": [
      "\n"
     ]
    }
   ],
   "source": [
    "class Solution:\n",
    "    def longestCommonPrefix(self, strs: [str]) -> str:\n",
    "        prefix = \"\"\n",
    "        n = 1\n",
    "        #get length of all strings in the array, get the lowest\n",
    "        alllengths = []\n",
    "        for i in strs:\n",
    "            alllengths.append(len(i))\n",
    "        alllengths.sort()\n",
    "        i = 0\n",
    "        \n",
    "        while i < alllengths[0]:\n",
    "            prefix = strs[0][:n]\n",
    "            for strings in strs:\n",
    "                if prefix != strings[:n]:\n",
    "                    prefix = prefix[:len(prefix) - 1]\n",
    "                    return prefix\n",
    "            n+=1\n",
    "            i+=1\n",
    "        return prefix\n",
    "sol = Solution()\n",
    "print(sol.longestCommonPrefix([\"dlower\",\"flow\",\"flight\"]))"
   ]
  },
  {
   "cell_type": "code",
   "execution_count": 77,
   "id": "f17633bd",
   "metadata": {},
   "outputs": [
    {
     "name": "stdout",
     "output_type": "stream",
     "text": [
      "[]\n",
      "True\n"
     ]
    }
   ],
   "source": [
    "class Solution:\n",
    "    def firstCheck(self, s):\n",
    "        map = {\"(\": \")\", \"[\":\"]\", \"{\":\"}\"}\n",
    "        i = 0\n",
    "        while i < (len(s)):\n",
    "            try:\n",
    "                if map[s[i]] == s[i+1]:\n",
    "                    i+=2\n",
    "                else:\n",
    "                    return False\n",
    "            except:\n",
    "                return False\n",
    "        return True\n",
    "    def secondCheck(self, s):\n",
    "        map = {\"(\": \")\", \"[\":\"]\", \"{\":\"}\"}\n",
    "        openings = []\n",
    "        i = 0\n",
    "        lastopeningposition = 0\n",
    "        while i < (len(s)):\n",
    "            #get the position of all openings, then find the position of possible closings\n",
    "            if s[i] in map:\n",
    "                openings.append(s[i])\n",
    "                lastopeningposition = i\n",
    "                #is opening\n",
    "            i+=1\n",
    "        #reverse the openings\n",
    "        n = 1\n",
    "        print(openings)\n",
    "        for op in reversed(openings):\n",
    "            try:\n",
    "                if map[op] != s[lastopeningposition+n]:\n",
    "                    return False\n",
    "            except:\n",
    "                return False\n",
    "            n+=1\n",
    "        return True\n",
    "    def isValid(self, s: str) -> bool:\n",
    "        print(self.firstCheck(s), self.secondCheck(s))\n",
    "        if self.firstCheck(s) == False:\n",
    "            #check value of second check\n",
    "            if self.secondCheck(s) == False:\n",
    "                return False\n",
    "            else:\n",
    "                return True\n",
    "        else:\n",
    "            return True\n",
    "sol = Solution()\n",
    "print(sol.(\"))\"))"
   ]
  },
  {
   "cell_type": "code",
   "execution_count": 27,
   "id": "3b8b5a79",
   "metadata": {},
   "outputs": [
    {
     "name": "stdout",
     "output_type": "stream",
     "text": [
      "True\n"
     ]
    }
   ],
   "source": [
    "class Solution:\n",
    "    def isValid(self, s: str) -> bool:\n",
    "        map = {\"(\": \")\", \"[\":\"]\", \"{\":\"}\"}\n",
    "        i = 0\n",
    "        while i < (len(s)):\n",
    "            if map[s[i]] == s[i+1]:\n",
    "                i+=2\n",
    "            else:\n",
    "                return False\n",
    "        return True\n",
    "sol = Solution()\n",
    "print(sol.isValid(\"(){}\"))"
   ]
  },
  {
   "cell_type": "code",
   "execution_count": null,
   "id": "82f097b5",
   "metadata": {},
   "outputs": [],
   "source": []
  },
  {
   "cell_type": "code",
   "execution_count": 7,
   "id": "1a98d304",
   "metadata": {},
   "outputs": [
    {
     "name": "stdout",
     "output_type": "stream",
     "text": [
      "{ }\n",
      "[ ]\n",
      "( )\n",
      "{ }\n",
      "[ ]\n",
      "True\n"
     ]
    }
   ],
   "source": [
    "class Solution:\n",
    "    def areBracketsBalanced(self, expr):\n",
    "        stack = []\n",
    " \n",
    "        # Traversing the Expression\n",
    "        for char in expr:\n",
    "            if char in [\"(\", \"{\", \"[\"]:\n",
    "                # Push the element in the stack\n",
    "                stack.append(char)\n",
    "            else:\n",
    "                # IF current character is not opening\n",
    "                # bracket, then it must be closing.\n",
    "                # So stack cannot be empty at this point.\n",
    "                if not stack:\n",
    "                    return False\n",
    "                current_char = stack.pop()\n",
    "                print(current_char, char)\n",
    "                if current_char == '(':\n",
    "                    if char != \")\":\n",
    "                        return False\n",
    "                if current_char == '{':\n",
    "                    if char != \"}\":\n",
    "                        return False\n",
    "                if current_char == '[':\n",
    "                    if char != \"]\":\n",
    "                        return False \n",
    "    # Check Empty Stack\n",
    "        if stack:\n",
    "            return False\n",
    "        return True\n",
    "    def isValid(self, s: str) -> bool:\n",
    "        return self.areBracketsBalanced(s)\n",
    "sol = Solution()\n",
    "print(sol.isValid(\"({}[])[{}]\"))"
   ]
  },
  {
   "cell_type": "code",
   "execution_count": 9,
   "id": "f0cbb5e0",
   "metadata": {},
   "outputs": [
    {
     "name": "stdout",
     "output_type": "stream",
     "text": [
      "[[7, 4, 1], [8, 5, 2], [9, 6, 3], [11, 12, 10]]\n"
     ]
    }
   ],
   "source": [
    "class Solution:\n",
    "    def rotate(self, matrix: [[int]]) -> None:\n",
    "        \"\"\"\n",
    "        Do not return anything, modify matrix in-place instead.\n",
    "        \"\"\"\n",
    "        new_matrix = []\n",
    "        i = 0\n",
    "        while i < len(matrix[0]):\n",
    "            new_row = []\n",
    "            for row in reversed(matrix):\n",
    "                new_row.append(row[i])\n",
    "            new_matrix.append(new_row)\n",
    "            i+=1\n",
    "        matrix.clear()\n",
    "        [matrix.append(nm) for nm in new_matrix]\n",
    "        print(matrix)\n",
    "sol = Solution()\n",
    "sol.rotate([[1,2,3, 10], [4,5,6, 12], [7,8,9, 11]])"
   ]
  },
  {
   "cell_type": "code",
   "execution_count": 25,
   "id": "8937b5a1",
   "metadata": {},
   "outputs": [
    {
     "ename": "ValueError",
     "evalue": "too many values to unpack (expected 2)",
     "output_type": "error",
     "traceback": [
      "\u001b[0;31m---------------------------------------------------------------------------\u001b[0m",
      "\u001b[0;31mValueError\u001b[0m                                Traceback (most recent call last)",
      "Input \u001b[0;32mIn [25]\u001b[0m, in \u001b[0;36m<cell line: 18>\u001b[0;34m()\u001b[0m\n\u001b[1;32m     16\u001b[0m         \u001b[38;5;28;01mreturn\u001b[39;00m finallist\n\u001b[1;32m     17\u001b[0m sol \u001b[38;5;241m=\u001b[39m Solution()\n\u001b[0;32m---> 18\u001b[0m \u001b[38;5;28mprint\u001b[39m(\u001b[43msol\u001b[49m\u001b[38;5;241;43m.\u001b[39;49m\u001b[43mgroupAnagrams\u001b[49m\u001b[43m(\u001b[49m\u001b[43m[\u001b[49m\u001b[38;5;124;43m\"\u001b[39;49m\u001b[38;5;124;43mabc\u001b[39;49m\u001b[38;5;124;43m\"\u001b[39;49m\u001b[43m,\u001b[49m\u001b[43m \u001b[49m\u001b[38;5;124;43m\"\u001b[39;49m\u001b[38;5;124;43mcab\u001b[39;49m\u001b[38;5;124;43m\"\u001b[39;49m\u001b[43m,\u001b[49m\u001b[43m \u001b[49m\u001b[38;5;124;43m\"\u001b[39;49m\u001b[38;5;124;43mtan\u001b[39;49m\u001b[38;5;124;43m\"\u001b[39;49m\u001b[43m]\u001b[49m\u001b[43m)\u001b[49m)\n",
      "Input \u001b[0;32mIn [25]\u001b[0m, in \u001b[0;36mSolution.groupAnagrams\u001b[0;34m(self, strs)\u001b[0m\n\u001b[1;32m     11\u001b[0m lttrs \u001b[38;5;241m=\u001b[39m \u001b[38;5;28mlist\u001b[39m(lttrs \u001b[38;5;28;01mfor\u001b[39;00m lttrs,_ \u001b[38;5;129;01min\u001b[39;00m itertools\u001b[38;5;241m.\u001b[39mgroupby(lttrs))\n\u001b[1;32m     12\u001b[0m \u001b[38;5;28;01mwhile\u001b[39;00m i \u001b[38;5;241m<\u001b[39m \u001b[38;5;28mlen\u001b[39m(allofthem):\n\u001b[0;32m---> 13\u001b[0m     \u001b[38;5;28;01mfor\u001b[39;00m lt, o \u001b[38;5;129;01min\u001b[39;00m lttrs:\n\u001b[1;32m     14\u001b[0m         \u001b[38;5;28mprint\u001b[39m(lt, o)\n\u001b[1;32m     15\u001b[0m     i\u001b[38;5;241m+\u001b[39m\u001b[38;5;241m=\u001b[39m\u001b[38;5;241m1\u001b[39m\n",
      "\u001b[0;31mValueError\u001b[0m: too many values to unpack (expected 2)"
     ]
    }
   ],
   "source": [
    "import itertools\n",
    "class Solution:\n",
    "    def groupAnagrams(self, strs: [str]) -> [[str]]:\n",
    "        allofthem = strs\n",
    "        finallist = []\n",
    "        lttrs = [list(m) for m in allofthem]\n",
    "        i = 0\n",
    "        for q in lttrs:\n",
    "            q.sort()\n",
    "        lttrs.sort()\n",
    "        lttrs = list(lttrs for lttrs,_ in itertools.groupby(lttrs))\n",
    "        \n",
    "        return finallist\n",
    "sol = Solution()\n",
    "print(sol.groupAnagrams([\"abc\", \"cab\", \"tan\"]))"
   ]
  },
  {
   "cell_type": "code",
   "execution_count": 10,
   "id": "42b5f004",
   "metadata": {},
   "outputs": [
    {
     "data": {
      "text/plain": [
       "[[0, 1], []]"
      ]
     },
     "execution_count": 10,
     "metadata": {},
     "output_type": "execute_result"
    }
   ],
   "source": [
    "class Solution:\n",
    "    def factorial(self, num):\n",
    "        m = 1\n",
    "        i = 1\n",
    "        while num > i:\n",
    "            m*=num\n",
    "            num-=1\n",
    "        return m\n",
    "    def checker(self, thelist, num, pos)->bool:\n",
    "        if thelist[pos] == num:\n",
    "            return True\n",
    "        return False\n",
    "    def permute(self, nums: [int]) -> [[int]]:\n",
    "        finallist = [nums] #first permutation is ready\n",
    "        ps = len(nums) - 1 #you can have each number in this number of positions\n",
    "        while len(finallist) < self.factorial(len(nums)):\n",
    "            newper = []\n",
    "            \n",
    "            finallist.append(newper)\n",
    "        return finallist\n",
    "sol = Solution()\n",
    "sol.permute([0,1])"
   ]
  },
  {
   "cell_type": "code",
   "execution_count": 48,
   "id": "6f789ce7",
   "metadata": {},
   "outputs": [
    {
     "name": "stdout",
     "output_type": "stream",
     "text": [
      "[0, 1]\n",
      "[1, 0]\n"
     ]
    }
   ],
   "source": [
    "class Solution:\n",
    "    def heapPermutation(a, size):\n",
    "        if size == 1:\n",
    "            return\n",
    "        final = []\n",
    "        for i in range(size):\n",
    "            heapPermutation(a, size-1)\n",
    "            if size & 1:\n",
    "                a[0], a[size-1] = a[size-1], a[0]\n",
    "            else:\n",
    "                a[i], a[size-1] = a[size-1], a[i]\n",
    "                \n",
    "    def permute(self, nums: [int]) -> [[int]]:\n",
    "        q = heapPermutation(nums, len(nums))\n",
    "sol = Solution()\n",
    "sol.permute([0,1])"
   ]
  },
  {
   "cell_type": "code",
   "execution_count": 56,
   "id": "5c766e1c",
   "metadata": {},
   "outputs": [
    {
     "ename": "KeyError",
     "evalue": "'1'",
     "output_type": "error",
     "traceback": [
      "\u001b[0;31m---------------------------------------------------------------------------\u001b[0m",
      "\u001b[0;31mKeyError\u001b[0m                                  Traceback (most recent call last)",
      "Input \u001b[0;32mIn [56]\u001b[0m, in \u001b[0;36m<cell line: 32>\u001b[0;34m()\u001b[0m\n\u001b[1;32m     30\u001b[0m         \u001b[38;5;28;01mreturn\u001b[39;00m rom\n\u001b[1;32m     31\u001b[0m sol \u001b[38;5;241m=\u001b[39m Solution()\n\u001b[0;32m---> 32\u001b[0m \u001b[38;5;28mprint\u001b[39m(\u001b[43msol\u001b[49m\u001b[38;5;241;43m.\u001b[39;49m\u001b[43mintToRoman\u001b[49m\u001b[43m(\u001b[49m\u001b[38;5;124;43m\"\u001b[39;49m\u001b[38;5;124;43m1000\u001b[39;49m\u001b[38;5;124;43m\"\u001b[39;49m\u001b[43m)\u001b[49m)\n",
      "Input \u001b[0;32mIn [56]\u001b[0m, in \u001b[0;36mSolution.intToRoman\u001b[0;34m(self, num)\u001b[0m\n\u001b[1;32m     26\u001b[0m             i\u001b[38;5;241m+\u001b[39m\u001b[38;5;241m=\u001b[39m\u001b[38;5;241m2\u001b[39m\n\u001b[1;32m     27\u001b[0m         \u001b[38;5;28;01melse\u001b[39;00m:\n\u001b[0;32m---> 28\u001b[0m             rom\u001b[38;5;241m+\u001b[39m\u001b[38;5;241m=\u001b[39m\u001b[38;5;28;43mself\u001b[39;49m\u001b[38;5;241;43m.\u001b[39;49m\u001b[43mmap\u001b[49m\u001b[43m[\u001b[49m\u001b[43mnum\u001b[49m\u001b[43m[\u001b[49m\u001b[43mi\u001b[49m\u001b[43m]\u001b[49m\u001b[43m]\u001b[49m\n\u001b[1;32m     29\u001b[0m             i\u001b[38;5;241m+\u001b[39m\u001b[38;5;241m=\u001b[39m\u001b[38;5;241m1\u001b[39m\n\u001b[1;32m     30\u001b[0m \u001b[38;5;28;01mreturn\u001b[39;00m rom\n",
      "\u001b[0;31mKeyError\u001b[0m: '1'"
     ]
    }
   ],
   "source": [
    "class Solution:\n",
    "    def intToRoman(self, num: int) -> str:\n",
    "        self.map = {\n",
    "            1:\"I\",\n",
    "            5:\"V\",\n",
    "            10:\"X\",\n",
    "            50:\"L\",\n",
    "            100:\"C\",\n",
    "            500:\"D\",\n",
    "            1000:\"M\",\n",
    "            4:\"IV\",\n",
    "            9:\"IX\",\n",
    "            10:\"XL\",\n",
    "            90:\"XC\",\n",
    "            400:\"CD\",\n",
    "            900:\"CM\"\n",
    "        }\n",
    "        rom = 0\n",
    "        i = 0\n",
    "        if num in self.map:\n",
    "            rom = self.map[s]\n",
    "        else:\n",
    "            while i < len(num):\n",
    "                if i+1<len(num) and num[i:i+2] in self.map:\n",
    "                    rom+=self.map[num[i:i+2]]\n",
    "                    i+=2\n",
    "                else:\n",
    "                    rom+=self.map[num[i]]\n",
    "                    i+=1\n",
    "        return rom\n",
    "sol = Solution()\n",
    "print(sol.intToRoman(\"1000\"))"
   ]
  },
  {
   "cell_type": "code",
   "execution_count": 86,
   "id": "92aad6fe",
   "metadata": {},
   "outputs": [
    {
     "name": "stdout",
     "output_type": "stream",
     "text": [
      "['8', '9', '9', '9', '0', '0', '0', '1']\n"
     ]
    }
   ],
   "source": [
    "# Definition for singly-linked list.\n",
    "# class ListNode:\n",
    "#     def __init__(self, val=0, next=None):\n",
    "#         self.val = val\n",
    "#         self.next = next\n",
    "class Solution:\n",
    "    def addTwoNumbers(self, l1: list, l2: list) -> list:\n",
    "        ans = 0\n",
    "        num1 = ''\n",
    "        num2 = ''\n",
    "        for i in l1:\n",
    "            num1+=(str(i))\n",
    "        for k in l2:\n",
    "            num2+=(str(k))\n",
    "        num1, num2 = num1[::-1], num2[::-1]\n",
    "        ans = int(num1)+int(num2)\n",
    "        rev =  list(str(ans))[::-1]\n",
    "        return rev\n",
    "sol = Solution()\n",
    "print(sol.addTwoNumbers([9,9,9,9,9,9,9], [9,9,9,9]))"
   ]
  },
  {
   "cell_type": "code",
   "execution_count": 91,
   "id": "a5930276",
   "metadata": {},
   "outputs": [
    {
     "ename": "AttributeError",
     "evalue": "'list' object has no attribute 'val'",
     "output_type": "error",
     "traceback": [
      "\u001b[0;31m---------------------------------------------------------------------------\u001b[0m",
      "\u001b[0;31mAttributeError\u001b[0m                            Traceback (most recent call last)",
      "Input \u001b[0;32mIn [91]\u001b[0m, in \u001b[0;36m<cell line: 23>\u001b[0;34m()\u001b[0m\n\u001b[1;32m     21\u001b[0m         \u001b[38;5;28;01mreturn\u001b[39;00m dummyHead\u001b[38;5;241m.\u001b[39mnext\n\u001b[1;32m     22\u001b[0m sol \u001b[38;5;241m=\u001b[39m Solution()\n\u001b[0;32m---> 23\u001b[0m \u001b[38;5;28mprint\u001b[39m(\u001b[43msol\u001b[49m\u001b[38;5;241;43m.\u001b[39;49m\u001b[43maddTwoNumbers\u001b[49m\u001b[43m(\u001b[49m\u001b[43m[\u001b[49m\u001b[38;5;241;43m9\u001b[39;49m\u001b[43m,\u001b[49m\u001b[38;5;241;43m9\u001b[39;49m\u001b[43m,\u001b[49m\u001b[38;5;241;43m9\u001b[39;49m\u001b[43m,\u001b[49m\u001b[38;5;241;43m9\u001b[39;49m\u001b[43m,\u001b[49m\u001b[38;5;241;43m9\u001b[39;49m\u001b[43m,\u001b[49m\u001b[38;5;241;43m9\u001b[39;49m\u001b[43m,\u001b[49m\u001b[38;5;241;43m9\u001b[39;49m\u001b[43m]\u001b[49m\u001b[43m,\u001b[49m\u001b[43m \u001b[49m\u001b[43m[\u001b[49m\u001b[38;5;241;43m9\u001b[39;49m\u001b[43m,\u001b[49m\u001b[38;5;241;43m9\u001b[39;49m\u001b[43m,\u001b[49m\u001b[38;5;241;43m9\u001b[39;49m\u001b[43m,\u001b[49m\u001b[38;5;241;43m9\u001b[39;49m\u001b[43m]\u001b[49m\u001b[43m)\u001b[49m)\n",
      "Input \u001b[0;32mIn [91]\u001b[0m, in \u001b[0;36mSolution.addTwoNumbers\u001b[0;34m(self, l1, l2)\u001b[0m\n\u001b[1;32m     10\u001b[0m carry \u001b[38;5;241m=\u001b[39m \u001b[38;5;241m0\u001b[39m\n\u001b[1;32m     11\u001b[0m \u001b[38;5;28;01mwhile\u001b[39;00m l1 \u001b[38;5;241m!=\u001b[39m \u001b[38;5;28;01mNone\u001b[39;00m \u001b[38;5;129;01mor\u001b[39;00m l2 \u001b[38;5;241m!=\u001b[39m \u001b[38;5;28;01mNone\u001b[39;00m \u001b[38;5;129;01mor\u001b[39;00m carry \u001b[38;5;241m!=\u001b[39m \u001b[38;5;241m0\u001b[39m:\n\u001b[0;32m---> 12\u001b[0m     l1Val \u001b[38;5;241m=\u001b[39m \u001b[43ml1\u001b[49m\u001b[38;5;241;43m.\u001b[39;49m\u001b[43mval\u001b[49m \u001b[38;5;28;01mif\u001b[39;00m l1 \u001b[38;5;28;01melse\u001b[39;00m \u001b[38;5;241m0\u001b[39m\n\u001b[1;32m     13\u001b[0m     l2Val \u001b[38;5;241m=\u001b[39m l2\u001b[38;5;241m.\u001b[39mval \u001b[38;5;28;01mif\u001b[39;00m l2 \u001b[38;5;28;01melse\u001b[39;00m \u001b[38;5;241m0\u001b[39m\n\u001b[1;32m     14\u001b[0m     columnSum \u001b[38;5;241m=\u001b[39m l1Val \u001b[38;5;241m+\u001b[39m l2Val \u001b[38;5;241m+\u001b[39m carry\n",
      "\u001b[0;31mAttributeError\u001b[0m: 'list' object has no attribute 'val'"
     ]
    }
   ],
   "source": [
    "# Definition for singly-linked list.\n",
    "class ListNode:\n",
    "    def __init__(self, val=0, next=None):\n",
    "        self.val = val\n",
    "        self.next = next\n",
    "class Solution:\n",
    "    def addTwoNumbers(self, l1: [ListNode], l2: [ListNode]) -> [ListNode]:\n",
    "        dummyHead = ListNode(0)\n",
    "        curr = dummyHead\n",
    "        carry = 0\n",
    "        while l1 != None or l2 != None or carry != 0:\n",
    "            l1Val = l1.val if l1 else 0\n",
    "            l2Val = l2.val if l2 else 0\n",
    "            columnSum = l1Val + l2Val + carry\n",
    "            carry = columnSum // 10\n",
    "            newNode = ListNode(columnSum % 10)\n",
    "            curr.next = newNode\n",
    "            curr = newNode\n",
    "            l1 = l1.next if l1 else None\n",
    "            l2 = l2.next if l2 else None\n",
    "        return dummyHead.next\n",
    "sol = Solution()\n",
    "print(sol.addTwoNumbers([9,9,9,9,9,9,9], [9,9,9,9]))"
   ]
  },
  {
   "cell_type": "code",
   "execution_count": 157,
   "id": "000c7232",
   "metadata": {},
   "outputs": [
    {
     "name": "stdout",
     "output_type": "stream",
     "text": [
      "2\n"
     ]
    }
   ],
   "source": [
    "class Solution:\n",
    "    def lengthOfLongestSubstring(self, s: str) -> int:\n",
    "        if len(s) == 0 or len(s) == 1:\n",
    "            return len(s)\n",
    "        ks = \"\"\n",
    "        sk = {}\n",
    "        for i in s:\n",
    "            if i in sk:\n",
    "                sk[i] = sk[i]+1\n",
    "            else:\n",
    "                sk[i] = 1\n",
    "        maxs = max(sk, key=sk.get)\n",
    "        if sk[maxs] == 1:\n",
    "            return len(s)\n",
    "        ms = s.split(maxs)\n",
    "        bl = \"\"\n",
    "        for i in ms:\n",
    "            if len(i) > len(bl):\n",
    "                bl = i\n",
    "        sp,ep = s.index(bl), s.index(bl)+len(bl)\n",
    "        return len(bl)+1\n",
    "sol = Solution()\n",
    "print(sol.lengthOfLongestSubstring(\"abcb\"))\n",
    "#wke"
   ]
  },
  {
   "cell_type": "code",
   "execution_count": 167,
   "id": "7a92543a",
   "metadata": {},
   "outputs": [
    {
     "name": "stdout",
     "output_type": "stream",
     "text": [
      "3\n"
     ]
    }
   ],
   "source": [
    "class Solution:\n",
    "    def lengthOfLongestSubstring(self, s: str) -> int:\n",
    "        ans = 0\n",
    "        sub = ''\n",
    "        for char in s:\n",
    "            if char not in sub:\n",
    "                sub += char\n",
    "                ans = max(ans, len(sub))\n",
    "            else:\n",
    "                cut = sub.index(char)\n",
    "                sub = sub[cut+1:] + char\n",
    "        return ans\n",
    "sol = Solution()\n",
    "print(sol.lengthOfLongestSubstring(\"pwwkew\"))\n"
   ]
  },
  {
   "cell_type": "code",
   "execution_count": 240,
   "id": "65d236c2",
   "metadata": {},
   "outputs": [
    {
     "name": "stdout",
     "output_type": "stream",
     "text": [
      "2\n"
     ]
    },
    {
     "data": {
      "text/plain": [
       "2.5"
      ]
     },
     "execution_count": 240,
     "metadata": {},
     "output_type": "execute_result"
    }
   ],
   "source": [
    "class Solution:\n",
    "    def rounder(self, num):\n",
    "        q = str(num).split(\".\")\n",
    "        roundx = int(q[0])\n",
    "        if int(q[1]) > 4:\n",
    "            roundx = int(q[0])+1\n",
    "        return roundx\n",
    "    def findMedianSortedArrays(self, nums1: [int], nums2: [int]) -> float:\n",
    "        fullnums = []\n",
    "        fullnums.extend(nums1)\n",
    "        fullnums.extend(nums2)\n",
    "        fullnums.sort()\n",
    "        if len(fullnums)%2 != 0:\n",
    "            fl = self.rounder(len(fullnums)/2)\n",
    "            return float(fullnums[fl-1])\n",
    "        else:\n",
    "            fl = int(len(fullnums)/2)\n",
    "            print(fl)\n",
    "            return float((fullnums[fl]+fullnums[fl-1])/2)\n",
    "sol = Solution()\n",
    "sol.findMedianSortedArrays([1,3], [2,7])"
   ]
  },
  {
   "cell_type": "code",
   "execution_count": 244,
   "id": "36abe423",
   "metadata": {},
   "outputs": [
    {
     "name": "stdout",
     "output_type": "stream",
     "text": [
      "5\n"
     ]
    }
   ],
   "source": [
    "def rounder(num: int):\n",
    "    q = str(num).split(\".\")\n",
    "    round = int(q[0])\n",
    "    if int(q[1]) > 4:\n",
    "        round = int(q[0])+1\n",
    "    print(round)\n",
    "rounder(5.1)"
   ]
  },
  {
   "cell_type": "code",
   "execution_count": 305,
   "id": "414a39ff",
   "metadata": {},
   "outputs": [
    {
     "name": "stdout",
     "output_type": "stream",
     "text": [
      "['CIC', 'OSO', 'N M', 'T I', 'E N', 'S G', 'T']\n"
     ]
    },
    {
     "data": {
      "text/plain": [
       "'\\n    TO\\n    BE\\n    OR\\n    NOT\\n    TO\\n    BE\\n    \\n    CONTEST\\n    IS\\n    COMING\\n'"
      ]
     },
     "execution_count": 305,
     "metadata": {},
     "output_type": "execute_result"
    }
   ],
   "source": [
    "class Solution:\n",
    "    def printVertically(self, s: str) -> [str]:\n",
    "        st = s.split(\" \")\n",
    "        flist = []\n",
    "        sk = {}\n",
    "        for i in st:\n",
    "            if i not in sk:\n",
    "                sk[i] = len(i)\n",
    "        maxs = max(sk, key=sk.get)\n",
    "        maximumlength = len(maxs)\n",
    "        i = 0\n",
    "        while i < maximumlength:\n",
    "            flist.append(\"\")\n",
    "            i+=1\n",
    "        #add spaces\n",
    "        for qm in range(len(st)-1):\n",
    "            st[qm]+=\" \"*(maximumlength-len(st[qm]))\n",
    "        for m in st:\n",
    "            for q in range(len(m)):\n",
    "                try:\n",
    "                    flist[q] += (m[q])\n",
    "                except:\n",
    "                    pass\n",
    "        #loop through each of the words to find trailing spaces\n",
    "        for kk in range(len(flist)):\n",
    "            q = flist[kk]\n",
    "            pso = 0\n",
    "            for m in range(len(q)):\n",
    "                if q[m] != \" \":\n",
    "                    pso = m\n",
    "            flist[kk] = q[:pso+1]\n",
    "        return flist\n",
    "sol = Solution()\n",
    "print(sol.printVertically(\"CONTEST IS COMING\"))\n",
    "\n",
    "'''\n",
    "    TO\n",
    "    BE\n",
    "    OR\n",
    "    NOT\n",
    "    TO\n",
    "    BE\n",
    "    \n",
    "    CONTEST\n",
    "    IS\n",
    "    COMING\n",
    "'''"
   ]
  },
  {
   "cell_type": "code",
   "execution_count": 5,
   "id": "f334f3e4",
   "metadata": {},
   "outputs": [
    {
     "name": "stdout",
     "output_type": "stream",
     "text": [
      "[]\n"
     ]
    }
   ],
   "source": [
    "class Solution:\n",
    "    def countSmaller(self, nums: [int]) -> [int]:\n",
    "        #omo\n",
    "        fl = []\n",
    "        i = 0;\n",
    "        while i < len(nums):\n",
    "            curnum = nums[i]\n",
    "            lessthan = 0\n",
    "            for n in range(i+1, len(nums)):\n",
    "                if nums[n] < curnum:\n",
    "                    lessthan+=1\n",
    "            fl.append(lessthan)\n",
    "            i+=1\n",
    "        return fl\n",
    "sol = Solution()\n",
    "print(sol.countSmaller([]))"
   ]
  },
  {
   "cell_type": "code",
   "execution_count": 4,
   "id": "3d8ae8df",
   "metadata": {
    "scrolled": true
   },
   "outputs": [
    {
     "name": "stdout",
     "output_type": "stream",
     "text": [
      "[3, 1, 1, 0]\n"
     ]
    }
   ],
   "source": [
    "class Solution:\n",
    "    def countSmaller(self, nums: [int]) -> [int]:\n",
    "        class node:\n",
    "            def __init__(self, idx, val):\n",
    "                self.idx = idx\n",
    "                self.val = val\n",
    "        \n",
    "        ans = [0] * len(nums)\n",
    "        nodes = [node(i, num) for (i, num) in enumerate(nums)]\n",
    "            \n",
    "        def merge(start, mid, end):\n",
    "            left, right, k = start, mid+1, 0\n",
    "            out = [None] * (end-start+1)\n",
    "            numsGreater = 0\n",
    "            \n",
    "            while(left <= mid and right <= end):\n",
    "                if nodes[left].val <= nodes[right].val:\n",
    "                    out[k] = nodes[left]\n",
    "                    ans[nodes[left].idx] += numsGreater\n",
    "                    left += 1\n",
    "                else:\n",
    "                    numsGreater += 1\n",
    "                    out[k] = nodes[right]\n",
    "                    right += 1\n",
    "                k += 1\n",
    "                \n",
    "            while(left <= mid):\n",
    "                out[k] = nodes[left]\n",
    "                ans[nodes[left].idx] += numsGreater\n",
    "                left, k = left+1, k+1\n",
    "                \n",
    "            while(right <= end):\n",
    "                out[k] = nodes[right]\n",
    "                right, k = right+1, k+1\n",
    "            \n",
    "            return out\n",
    "        \n",
    "        def solve(start, end):\n",
    "            if start >= end:\n",
    "                return\n",
    "            \n",
    "            mid = (end+start) // 2\n",
    "            \n",
    "            solve(start, mid)\n",
    "            solve(mid+1, end)\n",
    "            nodes[start:end+1] = merge(start, mid, end)\n",
    "            \n",
    "            return \n",
    "        \n",
    "        solve(0, len(nums)-1)        \n",
    "        return ans\n",
    "sol = Solution()\n",
    "print(sol.countSmaller([5183,2271,3067,539]))"
   ]
  },
  {
   "cell_type": "code",
   "execution_count": 29,
   "id": "3125c26c",
   "metadata": {},
   "outputs": [
    {
     "name": "stdout",
     "output_type": "stream",
     "text": [
      "276\n"
     ]
    },
    {
     "data": {
      "text/plain": [
       "'\\n    a = 1\\n    b = 1\\n    c = 2\\n'"
      ]
     },
     "execution_count": 29,
     "metadata": {},
     "output_type": "execute_result"
    }
   ],
   "source": [
    "class Solution:\n",
    "    minx = 0\n",
    "    def simmer(self, po):\n",
    "        i = 0\n",
    "        while i < len(po):\n",
    "            if po.count(po[i]) > 1:\n",
    "                po[i] = po[i]-1\n",
    "                self.minx+=1\n",
    "            i+=1\n",
    "        return self.minx, po\n",
    "    def minDeletions(self, s: str) -> int:\n",
    "        sk = {}\n",
    "        for i in s:\n",
    "            if i not in sk:\n",
    "                sk[i] = 1\n",
    "            else:\n",
    "                sk[i]+=1\n",
    "        po = [sk[q] for q in sk]\n",
    "        minx, npo = self.simmer(po)\n",
    "        for np in npo:\n",
    "            if npo.count(np) > 1 and np != 0:\n",
    "                minx, npo = self.simmer(po)\n",
    "            else:\n",
    "                minx, npo = self.simmer(po)\n",
    "        return minx\n",
    "sol = Solution()\n",
    "print(sol.minDeletions(\"abcdefghijklmnopqrstuvwxwzabcdefghijklmnopqrstuvwxwzabcdefghijklmnopqrstuvwxwzabcdefghijklmnopqrstuvwxwzabcdefghijklmnopqrstuvwxwzabcdefghijklmnopqrstuvwxwzabcdefghijklmnopqrstuvwxwzabcdefghijklmnopqrstuvwxwzabcdefghijklmnopqrstuvwxwzabcdefghijklmnopqrstuvwxwzabcdefghijklmnopqrstuvwxwzabcdefghijklmnopqrstuvwxwzabcdefghijklmnopqrstuvwxwzabcdefghijklmnopqrstuvwxwzabcdefghijklmnopqrstuvwxwzabcdefghijklmnopqrstuvwxwzabcdefghijklmnopqrstuvwxwzabcdefghijklmnopqrstuvwxwzabcdefghijklmnopqrstuvwxwzabcdefghijklmnopqrstuvwxwzabcdefghijklmnopqrstuvwxwzabcdefghijklmnopqrstuvwxwzabcdefghijklmnopqrstuvwxwzabcdefghijklmnopqrstuvwxwzabcdefghijklmnopqrstuvwxwzabcdefghijklmnopqrstuvwxwz\"))\n",
    "'''\n",
    "    a = 1\n",
    "    b = 1\n",
    "    c = 2\n",
    "'''"
   ]
  },
  {
   "cell_type": "code",
   "execution_count": 6,
   "id": "7916f3fe",
   "metadata": {},
   "outputs": [
    {
     "data": {
      "text/plain": [
       "46083733"
      ]
     },
     "execution_count": 6,
     "metadata": {},
     "output_type": "execute_result"
    }
   ],
   "source": [
    "def addfactorial(num):\n",
    "        m = 1\n",
    "        i = 1\n",
    "        ins = 0\n",
    "        while num > i:\n",
    "            m+=num+ins\n",
    "            num-=1\n",
    "            ins+=1\n",
    "        return m\n",
    "addfactorial(6789)"
   ]
  },
  {
   "cell_type": "code",
   "execution_count": null,
   "id": "6d217dc4",
   "metadata": {},
   "outputs": [],
   "source": []
  },
  {
   "cell_type": "code",
   "execution_count": 51,
   "id": "cd640b17",
   "metadata": {},
   "outputs": [
    {
     "data": {
      "text/plain": [
       "[0, 0, 9, 0, 0]"
      ]
     },
     "execution_count": 51,
     "metadata": {},
     "output_type": "execute_result"
    }
   ],
   "source": [
    "class Solution:\n",
    "    def multiply(self, ra):\n",
    "        f = 1;\n",
    "        for r in ra:\n",
    "            f*=r\n",
    "        return f\n",
    "    def productExceptSelf(self, nums: [int]) -> [int]:\n",
    "        fl = []\n",
    "        for a,c in enumerate(nums):\n",
    "            p = []\n",
    "            p.extend(nums[:a])\n",
    "            p.extend(nums[a+1:])\n",
    "            fl.append(self.multiply(p))\n",
    "        return fl\n",
    "sol = Solution()\n",
    "sol.productExceptSelf([-1,1,0,-3,3])"
   ]
  },
  {
   "cell_type": "code",
   "execution_count": 1,
   "id": "a5ca9a3b",
   "metadata": {},
   "outputs": [
    {
     "data": {
      "text/plain": [
       "[0, 0, 9, 0, 0]"
      ]
     },
     "execution_count": 1,
     "metadata": {},
     "output_type": "execute_result"
    }
   ],
   "source": [
    "class Solution:\n",
    "    def productExceptSelf(self, nums: [int]) -> [int]:\n",
    "        right_multiply = [0] * len(nums)\n",
    "        right_multiply[-1]=nums[-1]\n",
    "        for i in range(1,len(nums)):\n",
    "            right_multiply[len(nums)-i-1] = right_multiply[len(nums)-i] * nums[len(nums)-i-1]\n",
    "        output = [0]*len(nums)\n",
    "        prefix = 1\n",
    "        current_index = 0\n",
    "        while current_index < len(output)-1:\n",
    "            output[current_index] = prefix * right_multiply[current_index+1]\n",
    "            prefix *= nums[current_index]\n",
    "            current_index +=1\n",
    "        output[-1] = prefix\n",
    "        return output\n",
    "sol = Solution()\n",
    "sol.productExceptSelf([-1,1,0,-3,3])"
   ]
  },
  {
   "cell_type": "code",
   "execution_count": 30,
   "id": "6a4b23f8",
   "metadata": {},
   "outputs": [
    {
     "name": "stdout",
     "output_type": "stream",
     "text": [
      "[1, 0, 1]\n"
     ]
    },
    {
     "ename": "TypeError",
     "evalue": "sequence item 0: expected str instance, int found",
     "output_type": "error",
     "traceback": [
      "\u001b[0;31m---------------------------------------------------------------------------\u001b[0m",
      "\u001b[0;31mTypeError\u001b[0m                                 Traceback (most recent call last)",
      "Input \u001b[0;32mIn [30]\u001b[0m, in \u001b[0;36m<cell line: 16>\u001b[0;34m()\u001b[0m\n\u001b[1;32m     14\u001b[0m             \u001b[38;5;28;01mreturn\u001b[39;00m \u001b[38;5;241m-\u001b[39m\u001b[38;5;241m1\u001b[39m\n\u001b[1;32m     15\u001b[0m sol \u001b[38;5;241m=\u001b[39m Solution()\n\u001b[0;32m---> 16\u001b[0m \u001b[38;5;28mprint\u001b[39m(\u001b[43msol\u001b[49m\u001b[38;5;241;43m.\u001b[39;49m\u001b[43mnextGreaterElement\u001b[49m\u001b[43m(\u001b[49m\u001b[38;5;241;43m101\u001b[39;49m\u001b[43m)\u001b[49m)\n",
      "Input \u001b[0;32mIn [30]\u001b[0m, in \u001b[0;36mSolution.nextGreaterElement\u001b[0;34m(self, n)\u001b[0m\n\u001b[1;32m      7\u001b[0m sm \u001b[38;5;241m=\u001b[39m \u001b[38;5;124m\"\u001b[39m\u001b[38;5;124m\"\u001b[39m\n\u001b[1;32m      9\u001b[0m num\u001b[38;5;241m.\u001b[39msort(reverse\u001b[38;5;241m=\u001b[39m\u001b[38;5;28;01mTrue\u001b[39;00m)\n\u001b[0;32m---> 10\u001b[0m xnum \u001b[38;5;241m=\u001b[39m \u001b[38;5;124;43m'\u001b[39;49m\u001b[38;5;124;43m'\u001b[39;49m\u001b[38;5;241;43m.\u001b[39;49m\u001b[43mjoin\u001b[49m\u001b[43m(\u001b[49m\u001b[43mnum\u001b[49m\u001b[43m)\u001b[49m\n\u001b[1;32m     11\u001b[0m \u001b[38;5;28;01mif\u001b[39;00m \u001b[38;5;28mint\u001b[39m(xnum) \u001b[38;5;241m>\u001b[39m n \u001b[38;5;129;01mand\u001b[39;00m \u001b[38;5;28mint\u001b[39m(xnum) \u001b[38;5;241m<\u001b[39m\u001b[38;5;241m=\u001b[39m \u001b[38;5;241m2\u001b[39m\u001b[38;5;241m*\u001b[39m\u001b[38;5;241m*\u001b[39m\u001b[38;5;241m32\u001b[39m:\n\u001b[1;32m     12\u001b[0m     \u001b[38;5;28;01mreturn\u001b[39;00m \u001b[38;5;28mint\u001b[39m(xnum)\n",
      "\u001b[0;31mTypeError\u001b[0m: sequence item 0: expected str instance, int found"
     ]
    }
   ],
   "source": [
    "class Solution:\n",
    "    def nextGreaterElement(self, n: int) -> int:\n",
    "        #find the least number greater than the integer \n",
    "        num = list(str(n))[::-1]\n",
    "        num = [int(x) for x in num]\n",
    "        #get the first index and look for next number greater, \n",
    "        f1 = num[0]\n",
    "        \n",
    "        '''\n",
    "        num.sort(reverse=True)\n",
    "        xnum = ''.join(num)\n",
    "        if int(xnum) > n and int(xnum) <= 2**32:\n",
    "            return int(xnum)\n",
    "        else:\n",
    "            return -1\n",
    "        '''\n",
    "sol = Solution()\n",
    "print(sol.nextGreaterElement(101))"
   ]
  },
  {
   "cell_type": "code",
   "execution_count": 222,
   "id": "115259fa",
   "metadata": {},
   "outputs": [
    {
     "name": "stdout",
     "output_type": "stream",
     "text": [
      "0\n",
      "2\n",
      "2\n",
      "2\n",
      "2\n"
     ]
    }
   ],
   "source": [
    "class Solution:\n",
    "    def minTimeToType(self, word: str) -> int:\n",
    "        ltrs = ['a', 'b', 'c', 'd', 'e', 'f', 'g', 'h', 'i', 'j', 'k', 'l',\n",
    "               'm', 'n', 'o', 'p','q','r','s','t','u','v','w','x','y','z']\n",
    "        pointer = 0\n",
    "        movement = 0\n",
    "        for w in word:\n",
    "            if pointer == ltrs.index(w):\n",
    "                movement+=1\n",
    "                continue\n",
    "            else:\n",
    "                #move pointer\n",
    "                #get position of w\n",
    "                wi = ltrs.index(w)\n",
    "                if wi - pointer < (26 - pointer - wi):\n",
    "                    print(movement)\n",
    "                    movement+= wi-pointer + 1\n",
    "                    print(movement)\n",
    "                else:\n",
    "                    pass\n",
    "                pointer = wi\n",
    "                '''print(pointer)\n",
    "                    movement += (25 - pointer - wi + 2)\n",
    "                    pointer = wi\n",
    "                '''\n",
    "                '''if (wi - pointer) < abs(pointer-26) - (wi - pointer) + 1 :\n",
    "                    if wi - pointer + 1 < 0:\n",
    "                        movement+= - wi + 2\n",
    "                        print(pointer, wi - pointer + 1)\n",
    "                    else:\n",
    "                        print(pointer, w, wi - pointer + 1)\n",
    "                        movement+= wi - pointer + 1\n",
    "                    pointer = wi\n",
    "                else:\n",
    "                    print(w)\n",
    "                    movement+= abs(pointer-26) - (wi - pointer) + 1\n",
    "                    pointer = wi\n",
    "                '''\n",
    "        return movement\n",
    "sol = Solution()\n",
    "print(sol.minTimeToType('ba'))"
   ]
  },
  {
   "cell_type": "code",
   "execution_count": 282,
   "id": "f070b0d3",
   "metadata": {},
   "outputs": [
    {
     "name": "stdout",
     "output_type": "stream",
     "text": [
      "1 5 6\n"
     ]
    },
    {
     "data": {
      "text/plain": [
       "'a b c d  '"
      ]
     },
     "execution_count": 282,
     "metadata": {},
     "output_type": "execute_result"
    }
   ],
   "source": [
    "class Solution:\n",
    "    def reorderSpaces(self, text: str) -> str:\n",
    "        news = \"\"\n",
    "        sl = text.split(\" \")\n",
    "        nsp = []\n",
    "        #get number of empty spaces\n",
    "        nos = len(sl) - 1\n",
    "        txc = 0\n",
    "        for a in sl:\n",
    "            if a != \"\":\n",
    "                nsp.append(a)\n",
    "                txc += 1\n",
    "        if txc - 1 > 0: \n",
    "            if nos % (txc-1) == 0:\n",
    "                v = int(nos / (txc - 1))\n",
    "                news = (' '*v).join(nsp)\n",
    "            else:\n",
    "                v = int(nos / (txc - 1))\n",
    "                print(v, nos, len(sl))\n",
    "                news = (' '*v).join(nsp)\n",
    "                \n",
    "                news+=\" \"*(nos - news.count(\" \"))\n",
    "            return news\n",
    "        else:\n",
    "            news = ''.join(nsp)\n",
    "            news+=\" \"*nos\n",
    "            return news\n",
    "sol = Solution()\n",
    "sol.reorderSpaces(\"a b   c d\")"
   ]
  },
  {
   "cell_type": "code",
   "execution_count": 23,
   "id": "5dafb5e3",
   "metadata": {},
   "outputs": [
    {
     "name": "stdout",
     "output_type": "stream",
     "text": [
      "11\n",
      "--- 0.14276504516601562 seconds ---\n"
     ]
    }
   ],
   "source": [
    "import time\n",
    "class Solution:\n",
    "    def isPalindrome(self, x: int) -> bool:\n",
    "        originalNumber = str(x)\n",
    "        finalNumber = \"\"\n",
    "        for i in reversed(range(len(originalNumber))):\n",
    "            finalNumber+=originalNumber[i]\n",
    "        return originalNumber == finalNumber\n",
    "    def superpalindromesInRange(self, left: str, right: str) -> int:\n",
    "        continueRunning = True\n",
    "        fnum = 0;\n",
    "        startfrom = int(int(left)**(1/2))\n",
    "        while continueRunning:\n",
    "            if self.isPalindrome(startfrom) and self.isPalindrome(startfrom**2) and (startfrom**2 >= int(left)) and (startfrom**2 <= int(right)):\n",
    "                fnum+=1\n",
    "            elif startfrom**2 > int(right):\n",
    "                continueRunning = False\n",
    "                break\n",
    "            startfrom+=1\n",
    "        return fnum\n",
    "start_time = time.time()\n",
    "sol = Solution()\n",
    "print(sol.superpalindromesInRange(\"100000\", \"10000000000\"))\n",
    "print(\"--- %s seconds ---\" % (time.time() - start_time))"
   ]
  },
  {
   "cell_type": "code",
   "execution_count": 26,
   "id": "8a0454ef",
   "metadata": {},
   "outputs": [
    {
     "name": "stdout",
     "output_type": "stream",
     "text": [
      "11\n",
      "--- 0.003348112106323242 seconds ---\n"
     ]
    }
   ],
   "source": [
    "# Python implementation of the above approach\n",
    "\n",
    "# check if a number is a palindrome\n",
    "def ispalindrome(x):\n",
    "\tans, temp = 0, x\n",
    "\twhile temp > 0:\n",
    "\t\tans = 10 * ans + temp % 10\n",
    "\t\ttemp = temp // 10\n",
    "\treturn ans == x\n",
    "\n",
    "# Function to return required count of palindromes\n",
    "def SuperPalindromes(L, R):\n",
    "\t# Range [L, R]\n",
    "\tL, R = int(L), int(R)\n",
    "\n",
    "\t# Upper limit\n",
    "\tLIMIT = 100000\n",
    "\n",
    "\tans = 0\n",
    "\n",
    "\t# count odd length palindromes\n",
    "\tfor i in range(LIMIT):\n",
    "\t\ts = str(i) # if s = '1234'\n",
    "\t\tp = s + s[-2::-1] # then, t = '1234321'\n",
    "\t\tp_sq = int(p) ** 2\n",
    "\t\tif p_sq > R:\n",
    "\t\t\tbreak\n",
    "\t\tif p_sq >= L and ispalindrome(p_sq):\n",
    "\t\t\tans = ans + 1\n",
    "\n",
    "\t# count even length palindromes\n",
    "\tfor i in range(LIMIT):\n",
    "\t\ts = str(i) # if s = '1234'\n",
    "\t\tp = s + s[::-1] # then, t = '12344321'\n",
    "\t\tp_sq = int(p) ** 2\n",
    "\t\tif p_sq > R:\n",
    "\t\t\tbreak\n",
    "\t\tif p_sq >= L and ispalindrome(p_sq):\n",
    "\t\t\tans = ans + 1\n",
    "\n",
    "\t# Return count of super-palindromes\n",
    "\treturn ans\n",
    "\n",
    "# Driver program\n",
    "L,R = \"100000\", \"10000000000\"\n",
    "\n",
    "# function call to get required answer\n",
    "start_time = time.time()\n",
    "print(SuperPalindromes(L, R))\n",
    "print(\"--- %s seconds ---\" % (time.time() - start_time))\n",
    "# This code is written by\n",
    "# Sanjit_Prasad\n"
   ]
  },
  {
   "cell_type": "code",
   "execution_count": 38,
   "id": "cdaddc4e",
   "metadata": {},
   "outputs": [
    {
     "name": "stdout",
     "output_type": "stream",
     "text": [
      "[4, 5, 2, 7]\n"
     ]
    }
   ],
   "source": [
    "class Solution:\n",
    "    def sortArrayByParityII(self, nums: [int]) -> [int]:\n",
    "        holding = 0\n",
    "        isholding = False\n",
    "        fl = [0]*len(nums)\n",
    "        i = 0\n",
    "        even_nos = list(filter(lambda x: (x % 2 == 0), nums))\n",
    "        odd_nos = list(filter(lambda x: (x % 2 != 0), nums))\n",
    "        k = 0\n",
    "        y = 0\n",
    "        x = 0\n",
    "        z = 1\n",
    "        while k < len(even_nos):\n",
    "            fl[y] = even_nos[k]\n",
    "            k+=1\n",
    "            y+=2\n",
    "        while x < len(odd_nos):\n",
    "            fl[z] = odd_nos[x]\n",
    "            x+=1\n",
    "            z+=2\n",
    "        return fl\n",
    "sol = Solution()\n",
    "print(sol.sortArrayByParityII([4,2,5,7]))"
   ]
  },
  {
   "cell_type": "code",
   "execution_count": 85,
   "id": "303571ff",
   "metadata": {},
   "outputs": [
    {
     "data": {
      "text/plain": [
       "[]"
      ]
     },
     "execution_count": 85,
     "metadata": {},
     "output_type": "execute_result"
    }
   ],
   "source": [
    "class Solution:\n",
    "    def merge(self, nums1: [int], m: int, nums2: [int], n: int) -> None:\n",
    "        \"\"\"\n",
    "        Do not return anything, modify nums1 in-place instead.\n",
    "        \"\"\"\n",
    "        \n",
    "        n1 = list(filter(lambda a: a != 0, nums1))\n",
    "        n2 = list(filter(lambda a: a != 0, nums2))\n",
    "        n1.extend(n2)\n",
    "        n1.sort()\n",
    "        for _ in range(0, len(nums1)-len(n1)):\n",
    "            n1.append(0)\n",
    "        for i,k in enumerate(n1):\n",
    "            nums1[i] = k\n",
    "        nums1.sort()\n",
    "        return nums1\n",
    "sol = Solution()\n",
    "sol.merge([], 100, [],\n",
    "3)"
   ]
  },
  {
   "cell_type": "code",
   "execution_count": 92,
   "id": "f57198c7",
   "metadata": {},
   "outputs": [
    {
     "name": "stdout",
     "output_type": "stream",
     "text": [
      "[16, -12, 5, 3, 2, -5, -5, 11]\n",
      "3\n"
     ]
    }
   ],
   "source": [
    "class Solution:\n",
    "    def wiggleMaxLength(self, nums: [int]) -> int:\n",
    "        q = 0\n",
    "        i = 1\n",
    "        bm = []\n",
    "        while i < len(nums)-1:\n",
    "            bm.append(nums[i] - nums[i-1])\n",
    "            if nums[i] - nums[i-1] > 0 and nums[i+1]-nums[i] < 0:\n",
    "                q+=1\n",
    "                \n",
    "            i+=1\n",
    "        print(bm)\n",
    "        return q\n",
    "sol = Solution()\n",
    "print(sol.wiggleMaxLength([1,17,5,10,13,15,10,5,16,8]))"
   ]
  },
  {
   "cell_type": "code",
   "execution_count": 101,
   "id": "34c72afd",
   "metadata": {},
   "outputs": [
    {
     "name": "stdout",
     "output_type": "stream",
     "text": [
      "IPv4\n"
     ]
    }
   ],
   "source": [
    "class Solution:\n",
    "    def checkv4(self, s):\n",
    "        k = s.split(\".\")\n",
    "        if len(k) != 4:\n",
    "            return False\n",
    "        try:\n",
    "            for i in k:\n",
    "                if i[0] == \"0\" and len(i)>1:\n",
    "                    return False\n",
    "                else:\n",
    "                    if not (int(i) >= 0 and int(i) <= 255):\n",
    "                        return False\n",
    "            return True\n",
    "        except:\n",
    "            return False\n",
    "    def checkv6(self, s):\n",
    "        k = s.split(\":\")\n",
    "        if len(k) != 8:\n",
    "            return False\n",
    "        checkin = [\"a\", \"b\", \"c\", \"d\",\"e\",\"f\",\"A\",\"B\",\"C\",\"D\",\"E\",\"F\",\n",
    "                  \"0\", \"1\",\"2\", \"3\", \"4\", \"5\", \"6\", \"7\", \"8\",\"9\"]\n",
    "        for i in k:\n",
    "            if len(i) >= 1 and len(i) <= 4:\n",
    "                for m in i:\n",
    "                    if m not in checkin:\n",
    "                        return False\n",
    "            else:\n",
    "                return False\n",
    "        return True\n",
    "    def validIPAddress(self, queryIP: str) -> str:\n",
    "        if self.checkv4(queryIP):\n",
    "            return \"IPv4\"\n",
    "        elif self.checkv6(queryIP):\n",
    "            return \"IPv6\"\n",
    "        else:\n",
    "            return \"Neither\"\n",
    "sol = Solution()\n",
    "print(sol.validIPAddress(\"192.168.40.170\"))"
   ]
  },
  {
   "cell_type": "code",
   "execution_count": 110,
   "id": "40e03969",
   "metadata": {},
   "outputs": [
    {
     "name": "stdout",
     "output_type": "stream",
     "text": [
      "[2, 4]\n"
     ]
    }
   ],
   "source": [
    "class Solution:\n",
    "    def shortestPath(self, grid: [[int]], k: int) -> int:\n",
    "        obse = 0 #obstacles eliminated\n",
    "        steps = 0\n",
    "        lastx = len(grid)-1\n",
    "        lasty = len(grid[lastx])-1\n",
    "        tar = [lasty, lastx] #2,4\n",
    "        print(tar)\n",
    "        '''\n",
    "            0 0 0\n",
    "            1 1 0\n",
    "            0 0 0\n",
    "            0 1 1\n",
    "            0 0 0\n",
    "        '''\n",
    "        moving = [0,0]\n",
    "        #while moving != tar:\n",
    "        #take a step towards the right if it's free\n",
    "            \n",
    "sol = Solution()\n",
    "sol.shortestPath([[0,0,0],[1,1,0],[0,0,0],[0,1,1],[0,0,0]], 1)"
   ]
  },
  {
   "cell_type": "code",
   "execution_count": 2,
   "id": "2dcf8541",
   "metadata": {},
   "outputs": [
    {
     "name": "stdout",
     "output_type": "stream",
     "text": [
      "[]\n",
      "--- 0.0002560615539550781 seconds ---\n"
     ]
    }
   ],
   "source": [
    "import time\n",
    "class Solution:\n",
    "    def subdomainVisits(self, cpdomains: [str]) -> [str]:\n",
    "        alldomains = []\n",
    "        mxk = {}\n",
    "        for i in cpdomains:\n",
    "            sl = i.split(\" \")\n",
    "            c = int(sl[0])\n",
    "            m = sl[1].split(\".\")\n",
    "            # FULL DOMAIN\n",
    "            if mxk.get('.'.join(m[0:])) == None:\n",
    "                mxk['.'.join(m[0:])] = c\n",
    "            else:\n",
    "                mxk['.'.join(m[0:])] = mxk['.'.join(m[0:])] + c\n",
    "            # SECOND\n",
    "            if mxk.get('.'.join(m[1:])) == None:\n",
    "                mxk['.'.join(m[1:])] = c\n",
    "            else:\n",
    "                mxk['.'.join(m[1:])] = mxk['.'.join(m[1:])] + c\n",
    "            if mxk.get('.'.join(m[2:])) == None:\n",
    "                mxk['.'.join(m[2:])] = c\n",
    "            else:\n",
    "                mxk['.'.join(m[2:])] = mxk['.'.join(m[2:])] + c\n",
    "        for i in mxk:\n",
    "            if i != \"\":\n",
    "                alldomains.append(str(mxk[i])+\" \"+i)\n",
    "        return alldomains\n",
    "start_time = time.time()\n",
    "sol = Solution()"
   ]
  },
  {
   "cell_type": "code",
   "execution_count": null,
   "id": "632a87a5",
   "metadata": {},
   "outputs": [],
   "source": []
  },
  {
   "cell_type": "code",
   "execution_count": 205,
   "id": "ac2ce65a",
   "metadata": {},
   "outputs": [],
   "source": [
    "c = [\"408 zfz.network\",\"1789 zqy.ca\",\"622 cwn.net\",\"6629 vdu.bfo.team\",\"817 htq.co\",\"3496 ytn.com\",\"6122 nqk.srp.org\",\"4296 jre.us\",\"8176 gqs.ca\",\"7292 zbl.ksc.net\",\"4126 lir.ajl.team\",\"84 lmm.network\",\"622 wmt.cwn.net\",\"2572 qay.network\",\"7089 ske.yls.com\",\"2979 bhp.org\",\"2740 xhe.org\",\"4439 gtu.us\",\"1110 kdd.znq.us\",\"3314 hkt.net\",\"5041 cdf.hwu.us\",\"4198 okv.co\",\"6920 tlc.dfa.us\",\"654 yjt.co\",\"5016 zwv.gqi.co\",\"59671 team\",\"5705 mqa.wsv.net\",\"9103 vbo.org\",\"2406 hkb.ocf.co\",\"7292 ksc.net\",\"8928 arz.org\",\"8342 srp.team\",\"2447 ksc.com\",\"32 ulz.com\",\"3855 yjt.network\",\"9530 omu.network\",\"2329 vva.qay.network\",\"2531 ser.com\",\"1781 lbk.ksc.co\",\"7476 cze.yvr.net\",\"1873 gjf.ca\",\"3950 xuf.network\",\"1789 xcf.zqy.ca\",\"3055 jkx.com\",\"81314 network\",\"1137 qzi.co\",\"3262 mor.ixi.us\",\"7344 czb.com\",\"3090 yjt.us\",\"6890 bfo.network\",\"3875 ato.network\",\"68516 net\",\"9374 jep.ato.co\",\"9523 cgl.network\",\"7464 jpd.fff.co\",\"2715 okv.us\",\"3528 arz.us\",\"9374 ato.co\",\"7042 btv.com\",\"64390 org\",\"2862 sci.net\",\"9259 bfo.net\",\"9172 zfz.net\",\"3055 fdy.jkx.com\",\"2160 hsj.epf.org\",\"5907 zfz.us\",\"7392 uyy.net\",\"9897 lra.uyy.org\",\"58413 com\",\"2406 ocf.co\",\"6129 hkt.com\",\"3377 jkx.network\",\"12367 bfo.team\",\"59758 co\",\"36170 ca\",\"2160 epf.org\",\"4602 weq.buf.team\",\"6920 dfa.us\",\"1879 lmm.ca\",\"3314 ytd.hkt.net\",\"2862 coh.sci.net\",\"2913 ret.ych.ca\",\"817 sgp.htq.co\",\"9531 hoh.co\",\"3609 bhp.team\",\"8274 ulz.co\",\"9846 fuw.org\",\"1501 ara.ca\",\"2913 ych.ca\",\"5738 lar.bfo.team\",\"8557 lfn.net\",\"3449 tfm.us\",\"654 yls.yjt.co\",\"1781 ksc.co\",\"3215 hoh.network\",\"2777 mkw.co\",\"9897 uyy.org\",\"767 irh.epf.us\",\"2444 gxz.team\",\"4806 xss.dfa.co\",\"9372 hci.jia.network\",\"9581 gqi.team\",\"5016 gqi.co\",\"4975 okv.com\",\"4296 xtb.jre.us\",\"5705 wsv.net\",\"9372 jia.network\",\"8544 bhp.com\",\"1873 kse.gjf.ca\",\"7464 fff.co\",\"3624 epf.network\",\"9219 tfm.ca\",\"1387 hju.gbq.org\",\"4806 dfa.co\",\"3262 ixi.us\",\"7193 fzx.ca\",\"2965 gxj.org\",\"8557 uai.lfn.net\",\"51516 us\",\"8176 ujm.gqs.ca\",\"4602 buf.team\",\"4126 ajl.team\",\"1110 znq.us\",\"2444 vks.gxz.team\",\"6865 thk.net\",\"1523 suq.bhp.co\",\"3111 gdw.team\",\"4521 weh.bfo.us\",\"7476 yvr.net\",\"8167 jre.team\",\"5041 hwu.us\",\"4521 bfo.us\",\"3322 xhe.team\",\"2777 nak.mkw.co\",\"8263 cwn.org\",\"4681 lwf.ytn.network\",\"654 yaw.lmm.ca\",\"8167 ahm.jre.team\",\"3215 bll.hoh.network\",\"4681 ytn.network\",\"767 epf.us\",\"6122 srp.org\",\"3528 jyx.arz.us\",\"408 tdt.zfz.network\",\"8390 zqk.network\",\"9523 wyv.cgl.network\",\"3624 vmv.epf.network\",\"3090 ycc.yjt.us\",\"8544 xrj.bhp.com\",\"1523 bhp.co\",\"4198 xfs.okv.co\",\"7968 gjf.network\",\"3875 brk.ato.network\",\"1387 gbq.org\",\"2471 czb.us\",\"1627 bhp.ca\",\"1137 ujs.qzi.co\",\"5729 srp.com\",\"7089 yls.com\",\"7193 xth.fzx.ca\",\"2715 ubt.okv.us\",\"2531 mce.ser.com\"]"
   ]
  },
  {
   "cell_type": "code",
   "execution_count": 213,
   "id": "f8562349",
   "metadata": {},
   "outputs": [
    {
     "name": "stdout",
     "output_type": "stream",
     "text": [
      "['37395 ca', '654 lmm.ca']\n",
      "['1879 lmm.ca', '36170 ca']\n",
      "[]\n"
     ]
    }
   ],
   "source": [
    "print(list(set(a) - set(b)))\n",
    "print(list(set(c) - set(a)))\n",
    "print(list(set(c) - set(b)))"
   ]
  },
  {
   "cell_type": "code",
   "execution_count": 228,
   "id": "489c5ae4",
   "metadata": {},
   "outputs": [
    {
     "data": {
      "text/plain": [
       "['1879 lmm.ca', '36170 ca']"
      ]
     },
     "execution_count": 228,
     "metadata": {},
     "output_type": "execute_result"
    }
   ],
   "source": [
    "['37395 ca', '654 lmm.ca']\n",
    "['1879 lmm.ca', '36170 ca']"
   ]
  },
  {
   "cell_type": "code",
   "execution_count": 267,
   "id": "8ec864b8",
   "metadata": {},
   "outputs": [
    {
     "name": "stdout",
     "output_type": "stream",
     "text": [
      "-21\n"
     ]
    }
   ],
   "source": [
    "class Solution:\n",
    "    def reverse(self, x: int) -> int:\n",
    "        a = list(str(x))\n",
    "        c = 0\n",
    "        if a[0] == \"-\":\n",
    "            #reverse without the minus\n",
    "            b = a[1:][::-1]\n",
    "            c = int(''.join(b)) * -1\n",
    "        else:\n",
    "            b = a[::-1]\n",
    "            c = int(''.join(b))\n",
    "        return c\n",
    "sol = Solution()\n",
    "print(sol.reverse(-120))"
   ]
  },
  {
   "cell_type": "code",
   "execution_count": 6,
   "id": "e4214763",
   "metadata": {},
   "outputs": [
    {
     "name": "stdout",
     "output_type": "stream",
     "text": [
      "[[-1, 0, 1], [-1, -1, 2]]\n",
      "--- 0.00039386749267578125 seconds ---\n"
     ]
    }
   ],
   "source": [
    "import time\n",
    "class Solution:\n",
    "    def threeSum(self, nums: [int]) -> [[int]]:\n",
    "        i = 0\n",
    "        far = []\n",
    "        while i < len(nums):\n",
    "            j = i + 1\n",
    "            bfar = []\n",
    "            while j < len(nums):\n",
    "                k = j + 1\n",
    "                while k < len(nums):\n",
    "                    q = [nums[i],nums[j],nums[k]]\n",
    "                    q.sort()\n",
    "                    if sum(q) == 0:\n",
    "                        if q not in far:\n",
    "                            far.append(q)\n",
    "                    k+=1\n",
    "                j+=1\n",
    "            i+=1\n",
    "        return far\n",
    "start_time = time.time()\n",
    "sol = Solution()\n",
    "print(sol.threeSum([-1,0,1,2,-1,-4]))\n",
    "print(\"--- %s seconds ---\" % (time.time() - start_time))"
   ]
  },
  {
   "cell_type": "code",
   "execution_count": 117,
   "id": "1a74d66d",
   "metadata": {},
   "outputs": [
    {
     "name": "stdout",
     "output_type": "stream",
     "text": [
      "['', '', '', '', '', '', '', '', '', '', '', '']\n",
      "0\n",
      "0\n",
      "['wt', 'wu', 'wv', 'wt', 'xu', 'xv', 'xt', 'xu', 'yv', 'yt', 'yu', 'yv']\n"
     ]
    }
   ],
   "source": [
    "class Solution:\n",
    "    def letterCombinations(self, digits: str) -> [str]:\n",
    "        dgs = {\n",
    "            \"2\": [\"a\", \"b\", \"c\"],\n",
    "            \"3\": [\"d\", \"e\", \"f\"],\n",
    "            \"4\": [\"g\", \"h\", \"i\"],\n",
    "            \"5\": [\"j\", \"k\", \"l\"],\n",
    "            \"6\": [\"m\", \"n\", \"o\"],\n",
    "            \"7\": [\"p\", \"q\", \"r\", \"s\"],\n",
    "            \"8\": [\"t\", \"u\", \"v\"],\n",
    "            \"9\": [\"w\", \"x\", \"y\", \"z\"],\n",
    "        }\n",
    "        mq = 1\n",
    "        pq = list(digits)\n",
    "        if len(pq) == 1:\n",
    "            return dgs[pq[0]]\n",
    "        elif len(pq) == 0:\n",
    "            return []\n",
    "        for k in pq:\n",
    "            mq*=len(dgs[k])\n",
    "        fl = [\"\"]*mq\n",
    "        print(fl)\n",
    "        for b,a in enumerate(pq):\n",
    "            i = 0\n",
    "            k = 0\n",
    "            print(k)\n",
    "            while i < len(fl):\n",
    "                if b == 0:\n",
    "                    if i % len(dgs[a]) == 0 and i != 0:\n",
    "                        k += 1\n",
    "                    fl[i] += dgs[a][k]\n",
    "                else:\n",
    "                    for q in dgs[a]:\n",
    "                        fl[i] += q\n",
    "                        i+=1\n",
    "                    continue\n",
    "                i+=1\n",
    "        return fl\n",
    "sol = Solution()\n",
    "print(sol.letterCombinations(\"23\"))"
   ]
  },
  {
   "cell_type": "code",
   "execution_count": 120,
   "id": "7c5b90bf",
   "metadata": {},
   "outputs": [
    {
     "name": "stdout",
     "output_type": "stream",
     "text": [
      "[1, 2, 3, 4, 5]\n",
      "None\n"
     ]
    }
   ],
   "source": [
    "# Definition for singly-linked list.\n",
    "class ListNode:\n",
    "    def __init__(self, val=0, next=None):\n",
    "        self.val = val\n",
    "        self.next = next\n",
    "class Solution:\n",
    "    def removeNthFromEnd(self, head: [ListNode], n: int) -> [ListNode]:\n",
    "        print(head)\n",
    "sol = Solution()\n",
    "print(sol.removeNthFromEnd([1,2,3,4,5], 2))"
   ]
  },
  {
   "cell_type": "code",
   "execution_count": 140,
   "id": "c45164ec",
   "metadata": {},
   "outputs": [
    {
     "data": {
      "text/plain": [
       "2"
      ]
     },
     "execution_count": 140,
     "metadata": {},
     "output_type": "execute_result"
    }
   ],
   "source": [
    "2%3"
   ]
  },
  {
   "cell_type": "code",
   "execution_count": null,
   "id": "00147cd5",
   "metadata": {},
   "outputs": [],
   "source": [
    "#SUDOKU\n",
    "\n",
    "class Solution:\n",
    "    def rotate(self, matrix: [[str]]) -> [str]:\n",
    "        \"\"\"\n",
    "        Do not return anything, modify matrix in-place instead.\n",
    "        \"\"\"\n",
    "        new_matrix = []\n",
    "        i = 0\n",
    "        while i < len(matrix[0]):\n",
    "            new_row = []\n",
    "            for row in reversed(matrix):\n",
    "                new_row.append(row[i])\n",
    "            new_matrix.append(new_row)\n",
    "            i+=1\n",
    "        return new_matrix\n",
    "    def isValidSudoku(self, board: [[str]]) -> bool:\n",
    "        def checkColumnOrRow(t: [str]):\n",
    "            i = 0\n",
    "            donenumbers = []\n",
    "            while i < len(t):\n",
    "                if t[i] == '.':\n",
    "                    pass\n",
    "                elif (int(t[i]) >= 1 or int(t[i]) <= 9) and t[i] not in donenumbers:\n",
    "                    donenumbers.append(t[i])\n",
    "                else:\n",
    "                    return False\n",
    "                i+=1\n",
    "            return True\n",
    "        \n",
    "        \n",
    "        rowcheck = True\n",
    "        i = 0\n",
    "        while i < len(board):\n",
    "            if checkColumnOrRow(board[i]) == False:\n",
    "                rowCheck = False\n",
    "                return False\n",
    "                break\n",
    "            i+=1\n",
    "        q = 0\n",
    "        #check column\n",
    "        rotated_board = self.rotate(board)\n",
    "        while q < len(rotated_board):\n",
    "            if checkColumnOrRow(rotated_board[q]) == False:\n",
    "                return False\n",
    "                break\n",
    "            q+=1\n",
    "        #3*b check\n",
    "        istart, jstart = 0, 0\n",
    "        istop, jstop = 3, 3\n",
    "        loop = 0\n",
    "        l = 0\n",
    "        bbox = [[\".\"]*9]*9\n",
    "        '''  i  j\n",
    "            [0][0] [0][1] [0][2]     [0][3] [0][4] [0][5]\n",
    "            [1][0] [1][1] [1][2]     [1][3] [1][4] [1][5]\n",
    "            [2][0] [2][1] [2][2]     [2][3] [2][4] [2][5]\n",
    "            \n",
    "            \n",
    "        '''\n",
    "        i = 0\n",
    "        j = 4\n",
    "        box = []\n",
    "        box2 = []\n",
    "        box3 = []\n",
    "        while i < j and j < 12: \n",
    "            m = 0\n",
    "            if i % 3==0 and i > 2:\n",
    "                j+=3\n",
    "            while m < 3:\n",
    "                if len(box) == 9:\n",
    "                    print(box)\n",
    "                    if checkColumnOrRow(box) == False:\n",
    "                        return False\n",
    "                    box.clear()\n",
    "                if i > 8:\n",
    "                    break\n",
    "                box.append(board[i][m])\n",
    "                m+=1\n",
    "            n = 3\n",
    "            while n < 6:\n",
    "                if len(box2) == 9:\n",
    "                    print(box2)\n",
    "                    if checkColumnOrRow(box2) == False:\n",
    "                        return False\n",
    "                    box2.clear()\n",
    "                if i > 8:\n",
    "                    break\n",
    "                box2.append(board[i][n])\n",
    "                n+=1\n",
    "            o = 6\n",
    "            while o < 9:\n",
    "                if len(box3) == 9:\n",
    "                    print(box3)\n",
    "                    if checkColumnOrRow(box3) == False:\n",
    "                        return False\n",
    "                    box3.clear()\n",
    "                if i > 8:\n",
    "                    break\n",
    "                box3.append(board[i][o])\n",
    "                o+=1\n",
    "            i+=1\n",
    "        \n",
    "        \n",
    "        '''if loop == 0 or loop == 3 or loop == 6:\n",
    "                #reset i, increase j\n",
    "                istart, istop = 0, 3\n",
    "                jstart, jstop = jstart+3, jstop+3\n",
    "            elif loop == 1 or loop == 4 or loop == 7:\n",
    "                #increase i and increase j\n",
    "                istart, istop = istart+3, istop+3\n",
    "                jstart, jstop = jstart+3, jstop+3\n",
    "            elif loop == 2 or loop == 5 or loop == 8:\n",
    "                #reset j, increase i\n",
    "                istart, istop = istart+3, istop+3\n",
    "                jstart, jstop = 0,3\n",
    "            #print('i= ', istart, istop)\n",
    "            #print('j= ', jstart, jstop)\n",
    "            #while l < len(board)\n",
    "            #box.extend(board[loop][istart: istop])\n",
    "            #box.extend(board[loop][jstart: jstop])   \n",
    "            #print(box)\n",
    "            loop+=1'''\n",
    "        '''if loop % 3 == 0:\n",
    "                #reset i, increase j\n",
    "                istart, istop = 0, 3\n",
    "                jstart, jstop = jstart+3, jstop+3\n",
    "            else:\n",
    "                #reset j increase i\n",
    "                jstart, jstop = 0,3\n",
    "                istart, istop = istart+3, istop+3\n",
    "        '''\n",
    "            \n",
    "            \n",
    "            \n",
    "        return True\n",
    "            \n",
    "\n",
    "'''i = [0:3]\n",
    "j = [0:3]\n",
    "i = [3:6]\n",
    "j = [0:3]\n",
    "i = [6:9]\n",
    "j = [0:3]\n",
    "i = [0:3]\n",
    "j = [3:6]\n",
    "i = [3:6]\n",
    "j = [3:6]\n",
    "i = [6:9]\n",
    "j = [3:6]\n",
    "i = [0:3]\n",
    "j = [6:9]\n",
    "i = [3:6]\n",
    "j = [6:9]\n",
    "i = [6:9]\n",
    "j = [6:9]\n",
    "\n",
    "0,3 to 3,6\n",
    "0,3 1,3 2,3\n",
    "0,4 1,4 1,4\n",
    "\n",
    "'''\n",
    "sol = Solution()\n",
    "sol.isValidSudoku([[\"8\",\"3\",\".\",\".\",\"7\",\".\",\".\",\".\",\".\"]\n",
    ",[\"6\",\".\",\".\",\"1\",\"9\",\"5\",\".\",\".\",\".\"]\n",
    ",[\".\",\"9\",\"8\",\".\",\".\",\".\",\".\",\"6\",\".\"]\n",
    ",[\"8\",\".\",\".\",\".\",\"6\",\".\",\".\",\".\",\"3\"]\n",
    ",[\"4\",\".\",\".\",\"8\",\".\",\"3\",\".\",\".\",\"1\"]\n",
    ",[\"7\",\".\",\".\",\".\",\"2\",\".\",\".\",\".\",\"6\"]\n",
    ",[\".\",\"6\",\".\",\".\",\".\",\".\",\"2\",\"8\",\".\"]\n",
    ",[\".\",\".\",\".\",\"4\",\"1\",\"9\",\".\",\".\",\"5\"]\n",
    ",[\".\",\".\",\".\",\".\",\"8\",\".\",\".\",\"7\",\"9\"]])"
   ]
  },
  {
   "cell_type": "code",
   "execution_count": 9,
   "id": "a3640692",
   "metadata": {},
   "outputs": [
    {
     "name": "stdout",
     "output_type": "stream",
     "text": [
      "[[0, 0, 0, 0], [0, 4, 5, 0], [0, 3, 1, 0]]\n"
     ]
    }
   ],
   "source": [
    "class Solution:\n",
    "    def setZeroes(self, matrix: [[int]]) -> None:\n",
    "        \"\"\"\n",
    "        Do not return anything, modify matrix in-place instead.\n",
    "        \"\"\"\n",
    "        \n",
    "        def breakdown(i,j):\n",
    "            #row num = 1, col num = 1\n",
    "            #ma[1][0], [1][1], [1][2]\n",
    "            #ma[0][1], [1][1], [1][2]\n",
    "            for m in range(len(matrix[i])):\n",
    "                matrix[i][m] = 0\n",
    "            for m in range(len(matrix)):\n",
    "                matrix[m][j] = 0\n",
    "        i = 0\n",
    "        change = []\n",
    "        while i < len(matrix):\n",
    "            row_num = i\n",
    "            j = 0\n",
    "            while j < len(matrix[i]):\n",
    "                if matrix[i][j] == 0:\n",
    "                    col_num = j\n",
    "                    change.append([i,j])\n",
    "                j+=1\n",
    "            i+=1\n",
    "        for q in change:\n",
    "            breakdown(q[0], q[1])\n",
    "        return matrix\n",
    "# change rows and columns of 0 to 0's\n",
    "sol = Solution()\n",
    "print(sol.setZeroes([[0,1,2,0],[3,4,5,2],[1,3,1,5]]))"
   ]
  },
  {
   "cell_type": "code",
   "execution_count": 19,
   "id": "33b8070c",
   "metadata": {},
   "outputs": [
    {
     "name": "stdout",
     "output_type": "stream",
     "text": [
      "[0, 0, 0, 0, 1, 0, 0, 0, 0, 0]\n"
     ]
    }
   ],
   "source": [
    "class Solution:\n",
    "    def findNumOfValidWords(self, words: [str], puzzles: [str]) -> [int]:\n",
    "        SIZE = 26  # 26 letters in the alphabet\n",
    "        trie = [[0] * SIZE]  # we use list to mimic the trie tree\n",
    "        count = [0]  # the number of words ending at node i\n",
    "        for word in words:\n",
    "            word = sorted(set(word))\n",
    "            if len(word) <= 7:  # longer words are never valid\n",
    "                # insert into trie\n",
    "                node = 0\n",
    "                for letter in word:\n",
    "                    i = ord(letter) - ord('a')\n",
    "                    if trie[node][i] == 0:  # push empty node\n",
    "                        trie.append([0] * SIZE)\n",
    "                        count.append(0)\n",
    "                        trie[node][i] = len(trie) - 1\n",
    "                    node = trie[node][i]\n",
    "                count[node] += 1\n",
    "\n",
    "        # search for valid words\n",
    "        def dfs(node, has_first):\n",
    "            total = count[node] if has_first else 0\n",
    "            for letter in puzzle:  # catch puzzle from outside environment\n",
    "                i = ord(letter) - ord('a')\n",
    "                if trie[node][i]:\n",
    "                    total += dfs(trie[node][i], has_first or letter == puzzle[0])\n",
    "            return total\n",
    "\n",
    "        result = []\n",
    "        for puzzle in puzzles:\n",
    "            result.append(dfs(0, False))\n",
    "        return result\n",
    "sol = Solution()\n",
    "print(sol.findNumOfValidWords([\"aebd\",\"cbdjegehgfcefbgceifdcjcbhdbbhhdi\",\"bbcaehdgdghgaaghdbdg\",\"fhgjegdagiadgdhaeicgjgifabadjdfe\",\"gcadacg\",\"efhjdffcaih\",\"cgfjcdddabcdafjhcafieiadgebdeicbjjifgjbaf\",\"cbfhbdaiajhdefgjefjibefjaahgdachhfge\",\"cjejijcibgigceefidhcgbbdgg\",\"jaedgdggbajbbibifadjeddbff\",\"chdihgafjgfeaeefdigfeifjaihcg\",\"giicgbjeah\",\"bagcfechdabicgbidbceggjfedaabfibhcieefjhj\",\"gbagbjhdjjdgifgaciehfjabi\",\"ehheaajfbjdhabbjafeid\",\"biajeeagdecjigefgidc\",\"fejfdfeghbbdfc\",\"bfbfffe\",\"digd\",\"bciabjhf\"],\n",
    "[\"axtniqf\",\"xsdlyik\",\"ldsimca\",\"ptvdamy\",\"djihgak\",\"xencovd\",\"rbwpugz\",\"xvsbpmj\",\"epfhmxs\",\"fshonmc\"]))"
   ]
  },
  {
   "cell_type": "code",
   "execution_count": 20,
   "id": "c933d747",
   "metadata": {},
   "outputs": [
    {
     "name": "stdout",
     "output_type": "stream",
     "text": [
      "[2, 0, 0, 0, 3, 0, 0, 0, 2, 1]\n"
     ]
    }
   ],
   "source": [
    "class Solution:\n",
    "    def findNumOfValidWords(self, words: [str], puzzles: [str]) -> [int]:\n",
    "        fl = [0]*len(puzzles)\n",
    "        i = 0\n",
    "        while i < len(puzzles):\n",
    "            available = []\n",
    "            for m in words:\n",
    "                wf = ''\n",
    "                for q in list(m):\n",
    "                    if q in puzzles[i]:\n",
    "                        wf+=q\n",
    "                if len(wf) == len(list(m)):\n",
    "                    available.append(m)\n",
    "            #print(puzzles[i], available)\n",
    "            fl[i] = len(available)\n",
    "            i+=1\n",
    "        for i,j in enumerate(puzzles):\n",
    "            m = list(j)\n",
    "            kk = []\n",
    "            for w in words:\n",
    "                #print(m[0], w)\n",
    "                if m[0] in w and len(w) <= 7:\n",
    "                    kk.append(1)\n",
    "            #print(len(kk))\n",
    "            if len(kk) < len(words):\n",
    "                fl[i] = len(kk)\n",
    "        return fl\n",
    "sol = Solution()\n",
    "print(sol.findNumOfValidWords([\"aebd\",\"cbdjegehgfcefbgceifdcjcbhdbbhhdi\",\"bbcaehdgdghgaaghdbdg\",\"fhgjegdagiadgdhaeicgjgifabadjdfe\",\"gcadacg\",\"efhjdffcaih\",\"cgfjcdddabcdafjhcafieiadgebdeicbjjifgjbaf\",\"cbfhbdaiajhdefgjefjibefjaahgdachhfge\",\"cjejijcibgigceefidhcgbbdgg\",\"jaedgdggbajbbibifadjeddbff\",\"chdihgafjgfeaeefdigfeifjaihcg\",\"giicgbjeah\",\"bagcfechdabicgbidbceggjfedaabfibhcieefjhj\",\"gbagbjhdjjdgifgaciehfjabi\",\"ehheaajfbjdhabbjafeid\",\"biajeeagdecjigefgidc\",\"fejfdfeghbbdfc\",\"bfbfffe\",\"digd\",\"bciabjhf\"],\n",
    "[\"axtniqf\",\"xsdlyik\",\"ldsimca\",\"ptvdamy\",\"djihgak\",\"xencovd\",\"rbwpugz\",\"xvsbpmj\",\"epfhmxs\",\"fshonmc\"]))"
   ]
  },
  {
   "cell_type": "code",
   "execution_count": 59,
   "id": "7e06eac1",
   "metadata": {},
   "outputs": [
    {
     "name": "stdout",
     "output_type": "stream",
     "text": [
      "2-5G-3J\n"
     ]
    }
   ],
   "source": [
    "class Solution:\n",
    "    def licenseKeyFormatting(self, s: str, k: int) -> str:\n",
    "        mk = s.split(\"-\")\n",
    "        #implode it\n",
    "        nmk = ''.join(mk)\n",
    "        nmk = nmk.upper()\n",
    "        sf = \"\"\n",
    "        mok = []\n",
    "        for i in reversed(range(0, len(nmk))):\n",
    "            if len(sf) != k:\n",
    "                sf = nmk[i]+sf\n",
    "            else:\n",
    "                q = mok[:]\n",
    "                mok.insert(0 ,sf)\n",
    "                sf = \"\"\n",
    "                sf = nmk[i]+sf\n",
    "            if i == 0:\n",
    "                q = mok[:]\n",
    "                mok.insert(0 ,sf)\n",
    "                sf = \"\"\n",
    "        qr = '-'.join(mok)\n",
    "        return qr\n",
    "sol = Solution()\n",
    "print(sol.licenseKeyFormatting(\"2-5g-3-J\", 2))"
   ]
  },
  {
   "cell_type": "code",
   "execution_count": 109,
   "id": "dc80612d",
   "metadata": {},
   "outputs": [
    {
     "name": "stdout",
     "output_type": "stream",
     "text": [
      "['1']\n",
      "['1', '4']\n",
      "4\n",
      "['1', '3']\n",
      "3\n",
      "['1', '2']\n",
      "['1', '2', '2']\n",
      "2\n",
      "['1', '2', '1']\n",
      "['1', '2', '1', '9']\n",
      "1219\n"
     ]
    }
   ],
   "source": [
    "class Solution:\n",
    "    def removeKdigits(self, num: str, k: int) -> str:\n",
    "        st = list()\n",
    "        for n in num:\n",
    "            while st and k and st[-1] > n:\n",
    "                a = st.pop()\n",
    "                print(a)\n",
    "                k -= 1\n",
    "            \n",
    "            if st or n != '0': # prevent leading zeros\n",
    "                st.append(n)\n",
    "                print(st)\n",
    "        if k: # not fully spent\n",
    "            st = st[0:-k]\n",
    "            \n",
    "        return ''.join(st) or '0'\n",
    "sol = Solution()\n",
    "print(sol.removeKdigits(\"1432219\",3))"
   ]
  },
  {
   "cell_type": "code",
   "execution_count": 111,
   "id": "a704cdc1",
   "metadata": {},
   "outputs": [
    {
     "name": "stdout",
     "output_type": "stream",
     "text": [
      "1219\n"
     ]
    }
   ],
   "source": [
    "class Solution:\n",
    "    def removeKdigits(self, num: str, k: int) -> str:\n",
    "        kl = []\n",
    "        for n in num:\n",
    "            while kl and k and kl[-1] > n:\n",
    "                kl.pop()\n",
    "                k-=1\n",
    "            if kl or n != '0':\n",
    "                kl.append(n)\n",
    "        if k:\n",
    "            kl = kl[0: -k]\n",
    "        return ''.join(kl) or '0'\n",
    "sol = Solution()\n",
    "print(sol.removeKdigits(\"1432219\",3))"
   ]
  },
  {
   "cell_type": "code",
   "execution_count": 73,
   "id": "b4b0f675",
   "metadata": {},
   "outputs": [
    {
     "name": "stdout",
     "output_type": "stream",
     "text": [
      "[6, 6, 7]\n",
      "[7, 6, 6, 7]\n"
     ]
    }
   ],
   "source": [
    "class Solution:\n",
    "    def maxNumber(self, nums1: [int], nums2: [int], k: int) -> [int]:\n",
    "        \n",
    "        '''kl = []\n",
    "        x = max(nums1)\n",
    "        qex = []\n",
    "        qex.extend(nums1[nums1.index(x):])\n",
    "        kl.extend(nums1)\n",
    "        stp = 0\n",
    "        for n in nums2:\n",
    "            #loop through nums1, replace it with the biggest element in nums2\n",
    "            if nums2[stp:]:\n",
    "                l = max(nums2[stp:])\n",
    "                stp = nums2.index(l)+1\n",
    "                for m in nums1:\n",
    "                    if l >= m:\n",
    "                        kl.insert(kl.index(m), l)\n",
    "                        #print(kl)\n",
    "                        break\n",
    "        for i in kl:\n",
    "            if qex[0] > i:\n",
    "                kk = kl.index(i)\n",
    "                for m in qex:\n",
    "                    kl.insert(kk, m)\n",
    "                    kk+=1\n",
    "                break\n",
    "        return kl[:k]\n",
    "        '''\n",
    "sol = Solution()\n",
    "print(sol.maxNumber([6,7], [6,0,4],5))"
   ]
  },
  {
   "cell_type": "code",
   "execution_count": 16,
   "id": "69c23742",
   "metadata": {},
   "outputs": [
    {
     "name": "stdout",
     "output_type": "stream",
     "text": [
      "None\n"
     ]
    }
   ],
   "source": [
    "class Solution:\n",
    "    def maxNumber(self, nums1: [int], nums2: [int], k: int) -> [int]:\n",
    "        kl = []\n",
    "        kl.extend(nums1)\n",
    "        \n",
    "sol = Solution()\n",
    "print(sol.maxNumber([3,9], [8,9],3))"
   ]
  },
  {
   "cell_type": "code",
   "execution_count": null,
   "id": "18bad0d6",
   "metadata": {},
   "outputs": [],
   "source": []
  },
  {
   "cell_type": "code",
   "execution_count": null,
   "id": "de15dbda",
   "metadata": {},
   "outputs": [],
   "source": []
  }
 ],
 "metadata": {
  "kernelspec": {
   "display_name": "Python 3 (ipykernel)",
   "language": "python",
   "name": "python3"
  },
  "language_info": {
   "codemirror_mode": {
    "name": "ipython",
    "version": 3
   },
   "file_extension": ".py",
   "mimetype": "text/x-python",
   "name": "python",
   "nbconvert_exporter": "python",
   "pygments_lexer": "ipython3",
   "version": "3.9.10"
  }
 },
 "nbformat": 4,
 "nbformat_minor": 5
}
